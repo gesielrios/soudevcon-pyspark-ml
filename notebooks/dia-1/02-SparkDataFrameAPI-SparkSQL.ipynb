{
 "cells": [
  {
   "cell_type": "markdown",
   "id": "82f9e8d2-7c01-4979-be3b-2439e13cd0ee",
   "metadata": {},
   "source": [
    "<p align=\"center\">\n",
    "    <img src=\"https://soudevcon.com.br/wp-content/uploads/2025/01/logo-soudevcon-1000-branco.png\" width=\"300px\"/><br><br>\n",
    "</p>\n",
    "\n",
    "## SouDevCon - 2025\n",
    "### A Celebração das Linguagens de Programação!"
   ]
  },
  {
   "cell_type": "markdown",
   "id": "6f32b145-3b6f-486a-89dc-c721c5a48678",
   "metadata": {},
   "source": [
    "# Aprendizado de Máquina com Dados em Larga Escala.\n",
    "\n",
    "__Conteúdo:__\n",
    "\n",
    "- Parte I: Spark DataFrame API\n",
    "- Parte II: Spark SQL"
   ]
  },
  {
   "cell_type": "code",
   "execution_count": null,
   "id": "d3116e46-0501-417e-b981-bc1e2fd2a673",
   "metadata": {},
   "outputs": [],
   "source": [
    "from IPython.core.display import HTML\n",
    "display(HTML('<style>pre {white-space: pre !important;}</style>'))"
   ]
  },
  {
   "cell_type": "markdown",
   "id": "993683ba-8762-478a-9978-2741a2a492e8",
   "metadata": {},
   "source": [
    "## Parte I: Spark DataFrame API"
   ]
  },
  {
   "cell_type": "code",
   "execution_count": null,
   "id": "68e353fc-e63f-46f1-be66-dec47d54f4e8",
   "metadata": {},
   "outputs": [],
   "source": []
  },
  {
   "cell_type": "code",
   "execution_count": null,
   "id": "ed4a588b-4dbe-4e84-9f92-d6060a12800d",
   "metadata": {},
   "outputs": [],
   "source": [
    "# Visualizando a quantidade de dados por estado de realizacao da prova\n"
   ]
  },
  {
   "cell_type": "code",
   "execution_count": null,
   "id": "b1625945-2981-4e6e-9282-7afea5ffb0a7",
   "metadata": {},
   "outputs": [],
   "source": [
    "# Visualizando a media\n",
    "# das notas de LC, MT e REDACAO por estado de realizacao das provas"
   ]
  },
  {
   "cell_type": "code",
   "execution_count": null,
   "id": "d236f6d1-38f3-4482-9720-01676d7c3fc2",
   "metadata": {},
   "outputs": [],
   "source": [
    "# Visualizando desvio padrao\n",
    "# das notas de LC, MT e REDACAO por estado de realizacao das provas\n"
   ]
  },
  {
   "cell_type": "code",
   "execution_count": null,
   "id": "3db41202-7d48-492a-b553-bdc49c71b20f",
   "metadata": {},
   "outputs": [],
   "source": [
    "# Visualizando a media e o desvio padrao\n",
    "# das notas de LC, MT e REDACAO de realizacao das provas da regiao sudeste"
   ]
  },
  {
   "cell_type": "code",
   "execution_count": null,
   "id": "07e238b8-4626-42a7-8174-630b4a1669b0",
   "metadata": {},
   "outputs": [],
   "source": [
    "# NOTAS POR PROVA - SOMENTE CANDIDATOS QUE ZERARAM A REDAÇÃO\n"
   ]
  },
  {
   "cell_type": "code",
   "execution_count": null,
   "id": "30ceb79d-25b7-4337-bece-6f00be7e49cd",
   "metadata": {},
   "outputs": [],
   "source": [
    "# Dados dos participantes do ENEM 2024\n"
   ]
  },
  {
   "cell_type": "code",
   "execution_count": null,
   "id": "137ebd23-fb0a-4c73-b4cb-e508f07ddad1",
   "metadata": {},
   "outputs": [],
   "source": [
    "# Visualizando participantes por faixa etaria\n"
   ]
  },
  {
   "cell_type": "code",
   "execution_count": null,
   "id": "5f875682-c253-424b-8c81-7db8865a61f2",
   "metadata": {},
   "outputs": [],
   "source": [
    "#visualizando participantes por sexo\n"
   ]
  },
  {
   "cell_type": "code",
   "execution_count": null,
   "id": "996c09ee-ff7f-4d1c-b1a4-af4f67748257",
   "metadata": {},
   "outputs": [],
   "source": [
    "#Visualizando inscritos por raça\n"
   ]
  },
  {
   "cell_type": "code",
   "execution_count": null,
   "id": "6c954307-2ee9-435a-8d27-b0fb08b706b8",
   "metadata": {},
   "outputs": [],
   "source": [
    "# Número de Candidatos inscritos por Sexo e RACA\n"
   ]
  },
  {
   "cell_type": "code",
   "execution_count": null,
   "id": "39b73645-2f9f-4a94-a1c6-f3b7a7e892ae",
   "metadata": {},
   "outputs": [],
   "source": [
    "# Media nota matematica por sexo\n"
   ]
  },
  {
   "cell_type": "code",
   "execution_count": null,
   "id": "725016a6-b491-4aaf-bb2a-741b1263e1e8",
   "metadata": {},
   "outputs": [],
   "source": [
    "# nota LC pela raça\n"
   ]
  },
  {
   "cell_type": "markdown",
   "id": "766f6834-5c02-4960-b320-2e760afad434",
   "metadata": {},
   "source": [
    "## Parte II: Spark SQL"
   ]
  },
  {
   "cell_type": "code",
   "execution_count": null,
   "id": "4cf0b9de-ce79-4ec9-b61e-610bbcb2045e",
   "metadata": {},
   "outputs": [],
   "source": []
  },
  {
   "cell_type": "code",
   "execution_count": null,
   "id": "a6efa981",
   "metadata": {},
   "outputs": [],
   "source": [
    "# Visualizando a quantidade de dados por estado de realizacao da prova\n"
   ]
  },
  {
   "cell_type": "code",
   "execution_count": null,
   "id": "a69626d1",
   "metadata": {},
   "outputs": [],
   "source": [
    "# Visualizando a media\n",
    "# das notas de LC, MT e REDACAO por estado de realizacao das provas"
   ]
  },
  {
   "cell_type": "code",
   "execution_count": null,
   "id": "9ff3c793",
   "metadata": {},
   "outputs": [],
   "source": [
    "# Visualizando desvio padrao\n",
    "# das notas de LC, MT e REDACAO por estado de realizacao das provas\n"
   ]
  },
  {
   "cell_type": "code",
   "execution_count": null,
   "id": "54b110bc",
   "metadata": {},
   "outputs": [],
   "source": [
    "# Visualizando a media e o desvio padrao\n",
    "# das notas de LC, MT e REDACAO de realizacao das provas da regiao sudeste"
   ]
  },
  {
   "cell_type": "code",
   "execution_count": null,
   "id": "5f027437",
   "metadata": {},
   "outputs": [],
   "source": [
    "# NOTAS POR PROVA - SOMENTE CANDIDATOS QUE ZERARAM A REDAÇÃO\n"
   ]
  },
  {
   "cell_type": "code",
   "execution_count": null,
   "id": "de7e2e11",
   "metadata": {},
   "outputs": [],
   "source": [
    "# Dados dos participantes do ENEM 2024\n"
   ]
  },
  {
   "cell_type": "code",
   "execution_count": null,
   "id": "ceaa87fe",
   "metadata": {},
   "outputs": [],
   "source": [
    "# Visualizando participantes por faixa etaria\n"
   ]
  },
  {
   "cell_type": "code",
   "execution_count": null,
   "id": "ba81e53a",
   "metadata": {},
   "outputs": [],
   "source": [
    "#visualizando participantes por sexo\n"
   ]
  },
  {
   "cell_type": "code",
   "execution_count": null,
   "id": "ce129d53",
   "metadata": {},
   "outputs": [],
   "source": [
    "#Visualizando inscritos por raça\n"
   ]
  },
  {
   "cell_type": "code",
   "execution_count": null,
   "id": "3e53d191",
   "metadata": {},
   "outputs": [],
   "source": [
    "# Número de Candidatos inscritos por Sexo e RACA\n"
   ]
  },
  {
   "cell_type": "code",
   "execution_count": null,
   "id": "1e3f6f15",
   "metadata": {},
   "outputs": [],
   "source": [
    "# Media nota matematica por sexo\n"
   ]
  },
  {
   "cell_type": "code",
   "execution_count": null,
   "id": "c36b058f",
   "metadata": {},
   "outputs": [],
   "source": [
    "# nota LC pela raça\n"
   ]
  },
  {
   "cell_type": "code",
   "execution_count": null,
   "id": "9c23a47c-1695-47cd-a8b8-218a6ee709b6",
   "metadata": {},
   "outputs": [],
   "source": []
  },
  {
   "cell_type": "code",
   "execution_count": null,
   "id": "4043b7fc-0141-4af3-9c5f-7c3f716ff05f",
   "metadata": {},
   "outputs": [],
   "source": []
  },
  {
   "cell_type": "markdown",
   "id": "3c505118-05dd-46c3-bf11-3be00a8b57e2",
   "metadata": {},
   "source": [
    "---\n",
    "\n",
    "__Licensa__\n",
    "\n",
    "<img src=\"https://upload.wikimedia.org/wikipedia/commons/thumb/d/d3/Cc_by-nc_icon.svg/1200px-Cc_by-nc_icon.svg.png\" width=\"20%\"/>\n",
    "\n",
    "\n",
    "\n",
    "*This work is licensed under the Creative Commons Attribution-NonCommercial 4.0 International License. To view a copy of this license, visit http://creativecommons.org/licenses/by-nc/4.0/ or send a letter to Creative Commons, PO Box 1866, Mountain View, CA 94042, USA.*"
   ]
  },
  {
   "cell_type": "code",
   "execution_count": null,
   "id": "c43fcf48-0c87-4389-81d3-59dd0716ff6e",
   "metadata": {},
   "outputs": [],
   "source": []
  },
  {
   "cell_type": "code",
   "execution_count": null,
   "id": "ea9a613a-4210-41c7-85d7-36dfc38bafce",
   "metadata": {},
   "outputs": [],
   "source": []
  }
 ],
 "metadata": {
  "kernelspec": {
   "display_name": "Python 3 (ipykernel)",
   "language": "python",
   "name": "python3"
  },
  "language_info": {
   "codemirror_mode": {
    "name": "ipython",
    "version": 3
   },
   "file_extension": ".py",
   "mimetype": "text/x-python",
   "name": "python",
   "nbconvert_exporter": "python",
   "pygments_lexer": "ipython3",
   "version": "3.12.9"
  }
 },
 "nbformat": 4,
 "nbformat_minor": 5
}
