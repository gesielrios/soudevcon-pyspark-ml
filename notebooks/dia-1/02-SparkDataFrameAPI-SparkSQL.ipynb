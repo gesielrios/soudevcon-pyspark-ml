{
 "cells": [
  {
   "cell_type": "markdown",
   "id": "82f9e8d2-7c01-4979-be3b-2439e13cd0ee",
   "metadata": {},
   "source": [
    "<p align=\"center\">\n",
    "    <img src=\"https://soudevcon.com.br/wp-content/uploads/2025/01/logo-soudevcon-1000-branco.png\" width=\"300px\"/><br><br>\n",
    "</p>\n",
    "\n",
    "## SouDevCon - 2025\n",
    "### A Celebração das Linguagens de Programação!"
   ]
  },
  {
   "cell_type": "markdown",
   "id": "6f32b145-3b6f-486a-89dc-c721c5a48678",
   "metadata": {},
   "source": [
    "# Aprendizado de Máquina com Dados em Larga Escala.\n",
    "\n",
    "__Conteúdo:__\n",
    "\n",
    "- Parte I: Spark DataFrame API\n",
    "- Parte II: Spark SQL"
   ]
  },
  {
   "cell_type": "code",
   "execution_count": 1,
   "id": "d3116e46-0501-417e-b981-bc1e2fd2a673",
   "metadata": {},
   "outputs": [
    {
     "data": {
      "text/html": [
       "<style>pre {white-space: pre !important;}</style>"
      ],
      "text/plain": [
       "<IPython.core.display.HTML object>"
      ]
     },
     "metadata": {},
     "output_type": "display_data"
    }
   ],
   "source": [
    "from IPython.core.display import HTML\n",
    "display(HTML('<style>pre {white-space: pre !important;}</style>'))"
   ]
  },
  {
   "cell_type": "markdown",
   "id": "993683ba-8762-478a-9978-2741a2a492e8",
   "metadata": {},
   "source": [
    "## Parte I: Spark DataFrame API"
   ]
  },
  {
   "cell_type": "code",
   "execution_count": 2,
   "id": "c289bbf7-ab56-4877-9035-5c4e7ffa1de2",
   "metadata": {},
   "outputs": [],
   "source": [
    "from pyspark.sql import SparkSession\n",
    "from pyspark.sql import functions as F"
   ]
  },
  {
   "cell_type": "code",
   "execution_count": 3,
   "id": "68e353fc-e63f-46f1-be66-dec47d54f4e8",
   "metadata": {},
   "outputs": [
    {
     "name": "stderr",
     "output_type": "stream",
     "text": [
      "Setting default log level to \"WARN\".\n",
      "To adjust logging level use sc.setLogLevel(newLevel). For SparkR, use setLogLevel(newLevel).\n",
      "25/08/07 13:29:27 WARN NativeCodeLoader: Unable to load native-hadoop library for your platform... using builtin-java classes where applicable\n"
     ]
    }
   ],
   "source": [
    "spark = (\n",
    "    SparkSession\n",
    "    .builder\n",
    "    .master('spark://spark-master:7077')\n",
    "    .appName('SparkDataFrameAPI')\n",
    "    .getOrCreate()\n",
    ")"
   ]
  },
  {
   "cell_type": "code",
   "execution_count": 4,
   "id": "4a47530d-9716-43c1-9218-d2cbbf2cb8c2",
   "metadata": {},
   "outputs": [
    {
     "name": "stderr",
     "output_type": "stream",
     "text": [
      "25/08/07 13:29:41 WARN SparkStringUtils: Truncated the string representation of a plan since it was too large. This behavior can be adjusted by setting 'spark.sql.debug.maxToStringFields'.\n"
     ]
    },
    {
     "name": "stdout",
     "output_type": "stream",
     "text": [
      "+-------------+------+---------+----------------+-----------------------+---------+---------+----------------------+------------------+---------------+------------------+----------------------+-----------+-----------+--------------+--------------+--------------+--------------+-----------+-----------+-----------+-----------+----------+----------+----------+----------+---------------------------------------------+---------------------------------------------+---------------------------------------------+---------------------------------------------+---------+---------------------------------------------+---------------------------------------------+--------------------------------------------------+---------------------------------------------+-----------------+-------------+-------------+-------------+-------------+-------------+---------------+\n",
      "|NU_SEQUENCIAL|NU_ANO|CO_ESCOLA|CO_MUNICIPIO_ESC|NO_MUNICIPIO_ESC       |CO_UF_ESC|SG_UF_ESC|TP_DEPENDENCIA_ADM_ESC|TP_LOCALIZACAO_ESC|TP_SIT_FUNC_ESC|CO_MUNICIPIO_PROVA|NO_MUNICIPIO_PROVA    |CO_UF_PROVA|SG_UF_PROVA|TP_PRESENCA_CN|TP_PRESENCA_CH|TP_PRESENCA_LC|TP_PRESENCA_MT|CO_PROVA_CN|CO_PROVA_CH|CO_PROVA_LC|CO_PROVA_MT|NU_NOTA_CN|NU_NOTA_CH|NU_NOTA_LC|NU_NOTA_MT|TX_RESPOSTAS_CN                              |TX_RESPOSTAS_CH                              |TX_RESPOSTAS_LC                              |TX_RESPOSTAS_MT                              |TP_LINGUA|TX_GABARITO_CN                               |TX_GABARITO_CH                               |TX_GABARITO_LC                                    |TX_GABARITO_MT                               |TP_STATUS_REDACAO|NU_NOTA_COMP1|NU_NOTA_COMP2|NU_NOTA_COMP3|NU_NOTA_COMP4|NU_NOTA_COMP5|NU_NOTA_REDACAO|\n",
      "+-------------+------+---------+----------------+-----------------------+---------+---------+----------------------+------------------+---------------+------------------+----------------------+-----------+-----------+--------------+--------------+--------------+--------------+-----------+-----------+-----------+-----------+----------+----------+----------+----------+---------------------------------------------+---------------------------------------------+---------------------------------------------+---------------------------------------------+---------+---------------------------------------------+---------------------------------------------+--------------------------------------------------+---------------------------------------------+-----------------+-------------+-------------+-------------+-------------+-------------+---------------+\n",
      "|206403       |2024  |23052929 |2301406         |Aratuba                |23       |CE       |2                     |1                 |1              |2301406           |Aratuba               |23         |CE         |1             |1             |1             |1             |1420       |1383       |1395       |1408       |436.8     |377.8     |423.4     |427.1     |CAABADDBBBACACACDEABDBABDDCCBACDCCBAACCABCBAC|BEABBCDABCDBAEEBDDABCCDAADDABACDDAB..........|BCADBCDCEDBDDBDDCDBCBB*BBDEAEEBCDCABBDDAAECEE|CBDCCADBBECCBADEACCBDCACECDDABBDBADBAAEDBCCAB|1        |CAEDAACCAEEXCBBAEDBBCAACDEDCBCEECAAEDDDEBBDDB|CECEBEBCDBADDEBBABCDCAECEDADBAEABEADCEDADACBC|CAAAECDDDAECBECEDDCBDEDDCECBDCBCEADBBDBDDCBEDADEEB|CECEBEDADCAADECDBBCEBDCCCACABBABBADDDCEADBBCE|1                |80           |60           |60           |80           |20           |300            |\n",
      "|3604651      |2024  |42103770 |4218004         |Tijucas                |42       |SC       |4                     |1                 |1              |4218004           |Tijucas               |42         |SC         |1             |1             |1             |1             |1422       |1384       |1396       |1410       |521.9     |601.9     |605.5     |689.2     |EBDEEADAECCAAEDBBEDABACDBCEEDDDEDBDDABDBCCECA|BADBACDAECEDEABBEADDBBDEBEDADEDEEACBBECABCEDA|AACEACADECBCDAEEBEDCBCBEDDCDEAEDEBDABDCECDDDB|DBAEDBECBDDBCCBBABBDECCCCEECBACCDBCDAAABBAAAD|0        |BBCEDBBAEXCCAEDDBCAEDAACAAEDDDEBBECBCEEDCAACD|DADABCDCECEDEBBBEBCDBADACBCADCEBEADBAECAECEDA|AACEADDDACDADECBBDBEEBDDECCBEDDCADBBDEBCEBDCECEDDC|DBCECEACADABBECBEDADCCDCCABBBCECEBCEADABBADDD|1                |160          |200          |200          |180          |180          |920            |\n",
      "|1461268      |2024  |NULL     |NULL            |NULL                   |NULL     |NULL     |NULL                  |NULL              |NULL           |4122404           |Rolândia              |41         |PR         |1             |1             |1             |1             |1419       |1385       |1398       |1407       |363.0     |548.4     |557.2     |456.4     |CABAECDBADDCDEACABEACEABEDDCEDCDCCBDBDBDDBDCC|DAEDBCDCEBCCECADDACABDEBDCDECEDBEABECBCBBDBCD|BBCABCACDDEECCBCECECADEECCBEADBBEDBDDDEDDEECB|EBADBEDDDBCBCBCDCCECAAADDDECCDBDACACCEAEACDAC|1        |BCEAACDEDCAAEDDDEBBDDBECCAEDBBAAACCAEEXCBBCED|CAEDBADBEBCCEDADBAEACBCADCEDEBBEBACECEABCDDAD|EAAACDDCDADDCBDEECEECBDCDADEEBCBEBADBCEBDBDDDDCECB|ABBABBADDDBBCECEADCEBCCCDBADCBEDAECADACDBCECE|1                |120          |120          |40           |120          |80           |480            |\n",
      "|4301058      |2024  |NULL     |NULL            |NULL                   |NULL     |NULL     |NULL                  |NULL              |NULL           |3534401           |Osasco                |35         |SP         |1             |1             |1             |1             |1421       |1386       |1397       |1409       |550.7     |553.8     |605.9     |629.1     |DDAAECECCBDBECBCBEAAADCBDDBBBEDADBDCCEEBCDAAD|ACCEADCEBDEECEDCCAADBBBCBCEABCD*AECAA........|AACEACBEDBAEEBEABDABCECDBACDCDDDCADEDDDECBEDE|BBBCDACDCABADAEACCECBCDAECECECCECBDEDABEDBCBA|0        |DDBDDEBBAAEDECBCEEDCAACDBBCEDBBAEXCCAEAACCAED|ACBCADCEDBAECEDADBADBEBCDADABCDEABCAEDEBBCECE|AACEADACDDCBEDADEEBDDBDBBCEECBDCBADDDCBDEDDCECBECE|CEBCEADBBCEADDDABBABBCCDCCECEDBACADECABEDADCB|1                |140          |200          |160          |160          |80           |740            |\n",
      "|3148322      |2024  |21150354 |2100436         |Alto Alegre do Maranhão|21       |MA       |2                     |1                 |1              |2111508           |São Mateus do Maranhão|21         |MA         |0             |0             |0             |0             |NULL       |NULL       |NULL       |NULL       |NULL      |NULL      |NULL      |NULL      |NULL                                         |NULL                                         |NULL                                         |NULL                                         |1        |NULL                                         |NULL                                         |NULL                                              |NULL                                         |NULL             |NULL         |NULL         |NULL         |NULL         |NULL         |NULL           |\n",
      "+-------------+------+---------+----------------+-----------------------+---------+---------+----------------------+------------------+---------------+------------------+----------------------+-----------+-----------+--------------+--------------+--------------+--------------+-----------+-----------+-----------+-----------+----------+----------+----------+----------+---------------------------------------------+---------------------------------------------+---------------------------------------------+---------------------------------------------+---------+---------------------------------------------+---------------------------------------------+--------------------------------------------------+---------------------------------------------+-----------------+-------------+-------------+-------------+-------------+-------------+---------------+\n",
      "only showing top 5 rows\n",
      "\n"
     ]
    }
   ],
   "source": [
    "enem_df = (\n",
    "    spark\n",
    "    .read\n",
    "    .csv(\n",
    "        'RESULTADOS_2024.csv',\n",
    "        sep=';',\n",
    "        header=True,\n",
    "        inferSchema=True,\n",
    "        encoding='latin1'\n",
    "    )\n",
    ")\n",
    "\n",
    "enem_df.show(5, truncate=False)"
   ]
  },
  {
   "cell_type": "code",
   "execution_count": 5,
   "id": "79cf1072-8f0a-454b-ac40-c5708ab76ead",
   "metadata": {},
   "outputs": [
    {
     "name": "stderr",
     "output_type": "stream",
     "text": [
      "                                                                                "
     ]
    },
    {
     "data": {
      "text/plain": [
       "4332944"
      ]
     },
     "execution_count": 5,
     "metadata": {},
     "output_type": "execute_result"
    }
   ],
   "source": [
    "enem_df.count()"
   ]
  },
  {
   "cell_type": "code",
   "execution_count": 6,
   "id": "cd231ac6-3548-4ca3-90be-3d726f7c44b5",
   "metadata": {},
   "outputs": [
    {
     "name": "stdout",
     "output_type": "stream",
     "text": [
      "root\n",
      " |-- NU_SEQUENCIAL: integer (nullable = true)\n",
      " |-- NU_ANO: integer (nullable = true)\n",
      " |-- CO_ESCOLA: integer (nullable = true)\n",
      " |-- CO_MUNICIPIO_ESC: integer (nullable = true)\n",
      " |-- NO_MUNICIPIO_ESC: string (nullable = true)\n",
      " |-- CO_UF_ESC: integer (nullable = true)\n",
      " |-- SG_UF_ESC: string (nullable = true)\n",
      " |-- TP_DEPENDENCIA_ADM_ESC: integer (nullable = true)\n",
      " |-- TP_LOCALIZACAO_ESC: integer (nullable = true)\n",
      " |-- TP_SIT_FUNC_ESC: integer (nullable = true)\n",
      " |-- CO_MUNICIPIO_PROVA: integer (nullable = true)\n",
      " |-- NO_MUNICIPIO_PROVA: string (nullable = true)\n",
      " |-- CO_UF_PROVA: integer (nullable = true)\n",
      " |-- SG_UF_PROVA: string (nullable = true)\n",
      " |-- TP_PRESENCA_CN: integer (nullable = true)\n",
      " |-- TP_PRESENCA_CH: integer (nullable = true)\n",
      " |-- TP_PRESENCA_LC: integer (nullable = true)\n",
      " |-- TP_PRESENCA_MT: integer (nullable = true)\n",
      " |-- CO_PROVA_CN: integer (nullable = true)\n",
      " |-- CO_PROVA_CH: integer (nullable = true)\n",
      " |-- CO_PROVA_LC: integer (nullable = true)\n",
      " |-- CO_PROVA_MT: integer (nullable = true)\n",
      " |-- NU_NOTA_CN: double (nullable = true)\n",
      " |-- NU_NOTA_CH: double (nullable = true)\n",
      " |-- NU_NOTA_LC: double (nullable = true)\n",
      " |-- NU_NOTA_MT: double (nullable = true)\n",
      " |-- TX_RESPOSTAS_CN: string (nullable = true)\n",
      " |-- TX_RESPOSTAS_CH: string (nullable = true)\n",
      " |-- TX_RESPOSTAS_LC: string (nullable = true)\n",
      " |-- TX_RESPOSTAS_MT: string (nullable = true)\n",
      " |-- TP_LINGUA: integer (nullable = true)\n",
      " |-- TX_GABARITO_CN: string (nullable = true)\n",
      " |-- TX_GABARITO_CH: string (nullable = true)\n",
      " |-- TX_GABARITO_LC: string (nullable = true)\n",
      " |-- TX_GABARITO_MT: string (nullable = true)\n",
      " |-- TP_STATUS_REDACAO: integer (nullable = true)\n",
      " |-- NU_NOTA_COMP1: integer (nullable = true)\n",
      " |-- NU_NOTA_COMP2: integer (nullable = true)\n",
      " |-- NU_NOTA_COMP3: integer (nullable = true)\n",
      " |-- NU_NOTA_COMP4: integer (nullable = true)\n",
      " |-- NU_NOTA_COMP5: integer (nullable = true)\n",
      " |-- NU_NOTA_REDACAO: integer (nullable = true)\n",
      "\n"
     ]
    }
   ],
   "source": [
    "enem_df.printSchema()"
   ]
  },
  {
   "cell_type": "code",
   "execution_count": 7,
   "id": "ed4a588b-4dbe-4e84-9f92-d6060a12800d",
   "metadata": {},
   "outputs": [
    {
     "name": "stderr",
     "output_type": "stream",
     "text": [
      "[Stage 6:===========================================>             (10 + 3) / 13]"
     ]
    },
    {
     "name": "stdout",
     "output_type": "stream",
     "text": [
      "+-----------+------+\n",
      "|SG_UF_PROVA| count|\n",
      "+-----------+------+\n",
      "|         SP|647215|\n",
      "|         MG|393824|\n",
      "|         BA|376845|\n",
      "|         RJ|289397|\n",
      "|         RS|279039|\n",
      "+-----------+------+\n",
      "only showing top 5 rows\n",
      "\n"
     ]
    },
    {
     "name": "stderr",
     "output_type": "stream",
     "text": [
      "                                                                                "
     ]
    }
   ],
   "source": [
    "# Visualizando a quantidade de dados por estado de realizacao da prova (SG_UF_PROVA)\n",
    "enem_df.groupBy(\n",
    "    'SG_UF_PROVA'\n",
    ").count().orderBy('count', ascending=False).show(5)"
   ]
  },
  {
   "cell_type": "code",
   "execution_count": 8,
   "id": "b1625945-2981-4e6e-9282-7afea5ffb0a7",
   "metadata": {},
   "outputs": [
    {
     "name": "stdout",
     "output_type": "stream",
     "text": [
      "CPU times: user 3 μs, sys: 0 ns, total: 3 μs\n",
      "Wall time: 4.77 μs\n"
     ]
    },
    {
     "name": "stderr",
     "output_type": "stream",
     "text": [
      "[Stage 9:===========================================>             (10 + 3) / 13]"
     ]
    },
    {
     "name": "stdout",
     "output_type": "stream",
     "text": [
      "+-----------+------------------+------------------+------------------+\n",
      "|SG_UF_PROVA|     MEDIA_NOTA_LC|     MEDIA_NOTA_MT|MEDIA_NOTA_REDACAO|\n",
      "+-----------+------------------+------------------+------------------+\n",
      "|         AC|506.69141881471694| 489.9609728707371| 589.4910773298084|\n",
      "|         AL|503.99079384934555| 505.4732616476004| 591.9077401836654|\n",
      "|         AM| 499.1964784757736|482.56220598650646| 540.9731652670646|\n",
      "|         AP|502.99491761429573| 479.6627616105242| 579.2629380366675|\n",
      "|         BA| 508.7301438327707|  499.372481400336| 598.7217970453785|\n",
      "+-----------+------------------+------------------+------------------+\n",
      "only showing top 5 rows\n",
      "\n"
     ]
    },
    {
     "name": "stderr",
     "output_type": "stream",
     "text": [
      "                                                                                "
     ]
    }
   ],
   "source": [
    "# Visualizando a media\n",
    "# das notas de LC, MT e REDACAO por estado de realizacao das provas\n",
    "%time\n",
    "enem_df.groupBy(\n",
    "    'SG_UF_PROVA'\n",
    ").agg(\n",
    "    F.mean(F.col('NU_NOTA_LC')).alias('MEDIA_NOTA_LC'),\n",
    "    F.mean(F.col('NU_NOTA_MT')).alias('MEDIA_NOTA_MT'),\n",
    "    F.mean(F.col('NU_NOTA_REDACAO')).alias('MEDIA_NOTA_REDACAO')\n",
    ").orderBy('SG_UF_PROVA').show(5)"
   ]
  },
  {
   "cell_type": "code",
   "execution_count": 9,
   "id": "d236f6d1-38f3-4482-9720-01676d7c3fc2",
   "metadata": {},
   "outputs": [
    {
     "name": "stdout",
     "output_type": "stream",
     "text": [
      "CPU times: user 2 μs, sys: 0 ns, total: 2 μs\n",
      "Wall time: 4.05 μs\n"
     ]
    },
    {
     "name": "stderr",
     "output_type": "stream",
     "text": [
      "[Stage 12:===================================================>    (12 + 1) / 13]"
     ]
    },
    {
     "name": "stdout",
     "output_type": "stream",
     "text": [
      "+-----------+-----------------+------------------+------------------+\n",
      "|SG_UF_PROVA|      STD_NOTA_LC|       STD_NOTA_MT|  STD_NOTA_REDACAO|\n",
      "+-----------+-----------------+------------------+------------------+\n",
      "|         AC|70.06169041603373| 95.22926904934953|212.25267461771952|\n",
      "|         AL|72.74449160311147|106.89082858766297|  242.096241563416|\n",
      "|         AM|72.64815076108428| 93.91156444915472|224.56191442909383|\n",
      "|         AP|71.01471708969164| 91.05994355623126| 227.0072301915263|\n",
      "|         BA|70.50809820417075|101.99542187756019|223.08724325934202|\n",
      "+-----------+-----------------+------------------+------------------+\n",
      "only showing top 5 rows\n",
      "\n"
     ]
    },
    {
     "name": "stderr",
     "output_type": "stream",
     "text": [
      "                                                                                "
     ]
    }
   ],
   "source": [
    "# Visualizando desvio padrao\n",
    "# das notas de LC, MT e REDACAO por estado de realizacao das provas\n",
    "%time\n",
    "enem_df.groupBy(\n",
    "    'SG_UF_PROVA'\n",
    ").agg(\n",
    "    F.std(F.col('NU_NOTA_LC')).alias('STD_NOTA_LC'),\n",
    "    F.std(F.col('NU_NOTA_MT')).alias('STD_NOTA_MT'),\n",
    "    F.std(F.col('NU_NOTA_REDACAO')).alias('STD_NOTA_REDACAO')\n",
    ").orderBy('SG_UF_PROVA').show(5)"
   ]
  },
  {
   "cell_type": "code",
   "execution_count": 10,
   "id": "702ac558-04a5-4431-845b-5d2059baa4ab",
   "metadata": {},
   "outputs": [
    {
     "name": "stdout",
     "output_type": "stream",
     "text": [
      "CPU times: user 2 μs, sys: 0 ns, total: 2 μs\n",
      "Wall time: 3.34 μs\n"
     ]
    },
    {
     "name": "stderr",
     "output_type": "stream",
     "text": [
      "[Stage 15:===========================================>            (10 + 3) / 13]"
     ]
    },
    {
     "name": "stdout",
     "output_type": "stream",
     "text": [
      "+-----------+------------------+------------------+------------------+\n",
      "|SG_UF_PROVA|MEDIA_NOTA_REDACAO|MENOR_NOTA_REDACAO|MAIOR_NOTA_REDACAO|\n",
      "+-----------+------------------+------------------+------------------+\n",
      "|         AC| 589.4910773298084|                 0|               980|\n",
      "|         AL| 591.9077401836654|                 0|              1000|\n",
      "|         AM| 540.9731652670646|                 0|               980|\n",
      "|         AP| 579.2629380366675|                 0|               980|\n",
      "|         BA| 598.7217970453785|                 0|               980|\n",
      "+-----------+------------------+------------------+------------------+\n",
      "only showing top 5 rows\n",
      "\n"
     ]
    },
    {
     "name": "stderr",
     "output_type": "stream",
     "text": [
      "                                                                                "
     ]
    }
   ],
   "source": [
    "%time\n",
    "enem_df.groupBy(\n",
    "    'SG_UF_PROVA'\n",
    ").agg(\n",
    "    F.mean(F.col('NU_NOTA_REDACAO')).alias('MEDIA_NOTA_REDACAO'),\n",
    "    F.min(F.col('NU_NOTA_REDACAO')).alias('MENOR_NOTA_REDACAO'),\n",
    "    F.max(F.col('NU_NOTA_REDACAO')).alias('MAIOR_NOTA_REDACAO')\n",
    ").orderBy('SG_UF_PROVA').show(5)"
   ]
  },
  {
   "cell_type": "code",
   "execution_count": 11,
   "id": "3db41202-7d48-492a-b553-bdc49c71b20f",
   "metadata": {},
   "outputs": [
    {
     "name": "stdout",
     "output_type": "stream",
     "text": [
      "CPU times: user 1e+03 ns, sys: 0 ns, total: 1e+03 ns\n",
      "Wall time: 3.34 μs\n"
     ]
    },
    {
     "name": "stderr",
     "output_type": "stream",
     "text": [
      "[Stage 18:===========================================>            (10 + 3) / 13]"
     ]
    },
    {
     "name": "stdout",
     "output_type": "stream",
     "text": [
      "+-----------+-----------------+-----------------+------------------+\n",
      "|SG_UF_PROVA|    MEDIA_NOTA_LC|    MEDIA_NOTA_MT|MEDIA_NOTA_REDACAO|\n",
      "+-----------+-----------------+-----------------+------------------+\n",
      "|         ES|535.4067699940247| 546.226067924818| 650.5578590957649|\n",
      "|         MG|538.0591089142654|551.9026473637185| 664.7805011078916|\n",
      "|         RJ|538.4875202137388|543.0368571936972| 641.5937565914364|\n",
      "|         SP|547.6865680589616|559.7713125587762| 652.2811404065163|\n",
      "+-----------+-----------------+-----------------+------------------+\n",
      "\n"
     ]
    },
    {
     "name": "stderr",
     "output_type": "stream",
     "text": [
      "                                                                                "
     ]
    }
   ],
   "source": [
    "# Visualizando a media\n",
    "# das notas de LC, MT e REDACAO de realizacao das provas da regiao sudeste\n",
    "%time\n",
    "enem_df.where(\n",
    "    F.col('SG_UF_PROVA').isin(['SP', 'MG', 'RJ', 'ES'])\n",
    ").groupBy(\n",
    "    'SG_UF_PROVA'\n",
    ").agg(\n",
    "    F.mean(F.col('NU_NOTA_LC')).alias('MEDIA_NOTA_LC'),\n",
    "    F.mean(F.col('NU_NOTA_MT')).alias('MEDIA_NOTA_MT'),\n",
    "    F.mean(F.col('NU_NOTA_REDACAO')).alias('MEDIA_NOTA_REDACAO')\n",
    ").orderBy('SG_UF_PROVA').show(5)"
   ]
  },
  {
   "cell_type": "code",
   "execution_count": 12,
   "id": "07e238b8-4626-42a7-8174-630b4a1669b0",
   "metadata": {},
   "outputs": [
    {
     "name": "stdout",
     "output_type": "stream",
     "text": [
      "CPU times: user 2 μs, sys: 0 ns, total: 2 μs\n",
      "Wall time: 2.86 μs\n"
     ]
    },
    {
     "name": "stderr",
     "output_type": "stream",
     "text": [
      "[Stage 21:===============================================>        (11 + 2) / 13]"
     ]
    },
    {
     "name": "stdout",
     "output_type": "stream",
     "text": [
      "+-----------+------------------+------------------+\n",
      "|SG_UF_PROVA|     MEDIA_NOTA_LC|     MEDIA_NOTA_MT|\n",
      "+-----------+------------------+------------------+\n",
      "|         ES|478.50738825267814| 473.0251497005988|\n",
      "|         MG| 466.7090728914335|464.30234123500145|\n",
      "|         RJ|470.29895035163185| 458.5498177740398|\n",
      "|         SP|480.95447657841135|474.65758952149565|\n",
      "+-----------+------------------+------------------+\n",
      "\n"
     ]
    },
    {
     "name": "stderr",
     "output_type": "stream",
     "text": [
      "                                                                                "
     ]
    }
   ],
   "source": [
    "# MEDIA DAS NOTAS POR PROVA - SOMENTE CANDIDATOS QUE ZERARAM A REDAÇÃO da Região Sudeste\n",
    "%time\n",
    "enem_df.where(\n",
    "    (F.col('SG_UF_PROVA').isin(['SP', 'MG', 'RJ', 'ES'])) &\n",
    "    (F.col('NU_NOTA_REDACAO') == 0)\n",
    ").groupBy(\n",
    "    'SG_UF_PROVA'\n",
    ").agg(\n",
    "    F.mean(F.col('NU_NOTA_LC')).alias('MEDIA_NOTA_LC'),\n",
    "    F.mean(F.col('NU_NOTA_MT')).alias('MEDIA_NOTA_MT'),\n",
    ").orderBy('SG_UF_PROVA').show(5)"
   ]
  },
  {
   "cell_type": "code",
   "execution_count": 13,
   "id": "30ceb79d-25b7-4337-bece-6f00be7e49cd",
   "metadata": {},
   "outputs": [
    {
     "name": "stderr",
     "output_type": "stream",
     "text": [
      "                                                                                "
     ]
    },
    {
     "name": "stdout",
     "output_type": "stream",
     "text": [
      "+------------+------+---------------+-------+---------------+-----------+----------------+---------------+---------------+---------+------------+------------------+------------------+-----------+-----------+----+----+----+----+----+----+----+----+----+----+----+----+----+----+----+----+----+----+----+----+----+----+----+\n",
      "|NU_INSCRICAO|NU_ANO|TP_FAIXA_ETARIA|TP_SEXO|TP_ESTADO_CIVIL|TP_COR_RACA|TP_NACIONALIDADE|TP_ST_CONCLUSAO|TP_ANO_CONCLUIU|TP_ENSINO|IN_TREINEIRO|CO_MUNICIPIO_PROVA|NO_MUNICIPIO_PROVA|CO_UF_PROVA|SG_UF_PROVA|Q001|Q002|Q003|Q004|Q005|Q006|Q007|Q008|Q009|Q010|Q011|Q012|Q013|Q014|Q015|Q016|Q017|Q018|Q019|Q020|Q021|Q022|Q023|\n",
      "+------------+------+---------------+-------+---------------+-----------+----------------+---------------+---------------+---------+------------+------------------+------------------+-----------+-----------+----+----+----+----+----+----+----+----+----+----+----+----+----+----+----+----+----+----+----+----+----+----+----+\n",
      "|210062064233|2024  |5              |F      |1              |1          |1               |1              |3              |NULL     |0           |4314902           |Porto Alegre      |43         |RS         |F   |F   |C   |D   |4   |B   |C   |A   |C   |D   |C   |B   |B   |A   |B   |B   |B   |D   |A   |B   |B   |E   |A   |\n",
      "|210062064234|2024  |11             |F      |1              |1          |1               |1              |10             |NULL     |0           |4318903           |São Luiz Gonzaga  |43         |RS         |B   |C   |A   |D   |2   |B   |E   |A   |B   |B   |B   |B   |B   |A   |A   |A   |A   |B   |A   |B   |A   |C   |A   |\n",
      "|210062064235|2024  |11             |F      |1              |1          |1               |1              |9              |NULL     |0           |4320107           |Sarandi           |43         |RS         |H   |F   |F   |D   |5   |B   |J   |A   |C   |D   |B   |B   |C   |A   |B   |B   |B   |D   |B   |B   |A   |D   |A   |\n",
      "|210062064236|2024  |3              |F      |1              |3          |1               |2              |0              |1        |0           |4313409           |Novo Hamburgo     |43         |RS         |B   |B   |B   |B   |6   |A   |C   |A   |B   |C   |B   |A   |B   |A   |B   |A   |A   |A   |A   |B   |A   |D   |A   |\n",
      "|210062064237|2024  |16             |M      |3              |1          |1               |1              |18             |NULL     |0           |4309209           |Gravataí          |43         |RS         |B   |B   |C   |C   |2   |A   |A   |A   |B   |C   |A   |A   |B   |A   |A   |A   |A   |B   |A   |B   |A   |B   |A   |\n",
      "+------------+------+---------------+-------+---------------+-----------+----------------+---------------+---------------+---------+------------+------------------+------------------+-----------+-----------+----+----+----+----+----+----+----+----+----+----+----+----+----+----+----+----+----+----+----+----+----+----+----+\n",
      "only showing top 5 rows\n",
      "\n"
     ]
    }
   ],
   "source": [
    "# Dados dos participantes do ENEM 2024\n",
    "participantes_df = (\n",
    "    spark\n",
    "    .read\n",
    "    .csv(\n",
    "        'PARTICIPANTES_2024.csv',\n",
    "        sep=';',\n",
    "        header=True,\n",
    "        inferSchema=True,\n",
    "        encoding='latin1'\n",
    "    )\n",
    ")\n",
    "participantes_df.show(5,truncate=False)"
   ]
  },
  {
   "cell_type": "code",
   "execution_count": 14,
   "id": "137ebd23-fb0a-4c73-b4cb-e508f07ddad1",
   "metadata": {},
   "outputs": [
    {
     "data": {
      "text/plain": [
       "4332944"
      ]
     },
     "execution_count": 14,
     "metadata": {},
     "output_type": "execute_result"
    }
   ],
   "source": [
    "# Visualizando participantes por faixa etaria\n",
    "participantes_df.count()"
   ]
  },
  {
   "cell_type": "code",
   "execution_count": 15,
   "id": "5f875682-c253-424b-8c81-7db8865a61f2",
   "metadata": {},
   "outputs": [
    {
     "name": "stderr",
     "output_type": "stream",
     "text": [
      "[Stage 30:====>                                                   (1 + 11) / 12]"
     ]
    },
    {
     "name": "stdout",
     "output_type": "stream",
     "text": [
      "+-------+-------+\n",
      "|TP_SEXO|  count|\n",
      "+-------+-------+\n",
      "|      F|2624621|\n",
      "|      M|1708323|\n",
      "+-------+-------+\n",
      "\n"
     ]
    },
    {
     "name": "stderr",
     "output_type": "stream",
     "text": [
      "                                                                                "
     ]
    }
   ],
   "source": [
    "#visualizando participantes por sexo\n",
    "participantes_df.groupBy(\n",
    "    'TP_SEXO'\n",
    ").count().show()"
   ]
  },
  {
   "cell_type": "code",
   "execution_count": 16,
   "id": "996c09ee-ff7f-4d1c-b1a4-af4f67748257",
   "metadata": {},
   "outputs": [
    {
     "name": "stderr",
     "output_type": "stream",
     "text": [
      "[Stage 33:==============>                                          (3 + 9) / 12]"
     ]
    },
    {
     "name": "stdout",
     "output_type": "stream",
     "text": [
      "+-----------+-------+\n",
      "|TP_COR_RACA|  count|\n",
      "+-----------+-------+\n",
      "|          0|  50632|\n",
      "|          1|1791884|\n",
      "|          2| 534653|\n",
      "|          3|1863437|\n",
      "|          4|  62419|\n",
      "|          5|  29919|\n",
      "+-----------+-------+\n",
      "\n"
     ]
    },
    {
     "name": "stderr",
     "output_type": "stream",
     "text": [
      "                                                                                "
     ]
    }
   ],
   "source": [
    "#Visualizando inscritos por raça\n",
    "participantes_df.groupBy(\n",
    "    'TP_COR_RACA'\n",
    ").count().orderBy('TP_COR_RACA').show()"
   ]
  },
  {
   "cell_type": "code",
   "execution_count": 17,
   "id": "6c954307-2ee9-435a-8d27-b0fb08b706b8",
   "metadata": {},
   "outputs": [
    {
     "name": "stderr",
     "output_type": "stream",
     "text": [
      "[Stage 36:==============================================>         (10 + 2) / 12]"
     ]
    },
    {
     "name": "stdout",
     "output_type": "stream",
     "text": [
      "+-------+-----------+-------+\n",
      "|TP_SEXO|TP_COR_RACA|  count|\n",
      "+-------+-----------+-------+\n",
      "|      F|          0|  29306|\n",
      "|      M|          0|  21326|\n",
      "|      M|          1| 700104|\n",
      "|      F|          1|1091780|\n",
      "|      F|          2| 311015|\n",
      "|      M|          2| 223638|\n",
      "|      F|          3|1135887|\n",
      "|      M|          3| 727550|\n",
      "|      F|          4|  39664|\n",
      "|      M|          4|  22755|\n",
      "|      M|          5|  12950|\n",
      "|      F|          5|  16969|\n",
      "+-------+-----------+-------+\n",
      "\n"
     ]
    },
    {
     "name": "stderr",
     "output_type": "stream",
     "text": [
      "                                                                                "
     ]
    }
   ],
   "source": [
    "# Número de Candidatos inscritos por Sexo e RACA\n",
    "participantes_df.groupBy(\n",
    "    'TP_SEXO', 'TP_COR_RACA'\n",
    ").count().orderBy('TP_COR_RACA').show()"
   ]
  },
  {
   "cell_type": "code",
   "execution_count": 18,
   "id": "dd41cf4f-6398-4ef9-a057-000151fd9c28",
   "metadata": {},
   "outputs": [],
   "source": [
    "## JOIN entre os dfs enem e participantes que fizeram a prova\n",
    "## no municipio de Pedreiras-MA (CO_MUNICIPIO_PROVA==2108207)\n",
    "## com NU_NOTA_REDACAO > 0"
   ]
  },
  {
   "cell_type": "code",
   "execution_count": 19,
   "id": "027f181c-d212-41a6-8f69-e044e61cfdb2",
   "metadata": {},
   "outputs": [
    {
     "name": "stderr",
     "output_type": "stream",
     "text": [
      "                                                                                "
     ]
    },
    {
     "data": {
      "text/plain": [
       "2282"
      ]
     },
     "execution_count": 19,
     "metadata": {},
     "output_type": "execute_result"
    }
   ],
   "source": [
    "participantes = participantes_df.filter(\n",
    "    (F.col('CO_MUNICIPIO_PROVA') == 2108207)\n",
    ").select(\n",
    "    F.col('CO_MUNICIPIO_PROVA'),\n",
    "    F.col('TP_SEXO'),\n",
    "    F.col('TP_COR_RACA'),\n",
    ")\n",
    "participantes.count()"
   ]
  },
  {
   "cell_type": "code",
   "execution_count": 20,
   "id": "75c70309-5769-4d26-8262-4544f05e7ce9",
   "metadata": {},
   "outputs": [
    {
     "name": "stderr",
     "output_type": "stream",
     "text": [
      "                                                                                "
     ]
    },
    {
     "data": {
      "text/plain": [
       "1450"
      ]
     },
     "execution_count": 20,
     "metadata": {},
     "output_type": "execute_result"
    }
   ],
   "source": [
    "enem = enem_df.filter(\n",
    "    (F.col('CO_MUNICIPIO_PROVA') == 2108207) &\n",
    "    (F.col('NU_NOTA_CN').isNotNull()) &\n",
    "    (F.col('NU_NOTA_CH').isNotNull()) &\n",
    "    (F.col('NU_NOTA_LC').isNotNull()) &\n",
    "    (F.col('NU_NOTA_MT').isNotNull()) &\n",
    "    (F.col('NU_NOTA_REDACAO') > 0)\n",
    ").select(\n",
    "    F.col('CO_MUNICIPIO_PROVA'),\n",
    "    F.col('NU_NOTA_CN'),\n",
    "    F.col('NU_NOTA_CH'),\n",
    "    F.col('NU_NOTA_LC'),\n",
    "    F.col('NU_NOTA_MT'),\n",
    "    F.col('NU_NOTA_REDACAO')\n",
    ")\n",
    "enem.count()"
   ]
  },
  {
   "cell_type": "code",
   "execution_count": 21,
   "id": "8e0dc132-8469-49b8-83bb-e825468a597a",
   "metadata": {},
   "outputs": [
    {
     "name": "stderr",
     "output_type": "stream",
     "text": [
      "[Stage 46:===========================================>            (10 + 3) / 13]"
     ]
    },
    {
     "name": "stdout",
     "output_type": "stream",
     "text": [
      "+------------------+-------+-----------+----------+----------+----------+----------+---------------+\n",
      "|CO_MUNICIPIO_PROVA|TP_SEXO|TP_COR_RACA|NU_NOTA_CN|NU_NOTA_CH|NU_NOTA_LC|NU_NOTA_MT|NU_NOTA_REDACAO|\n",
      "+------------------+-------+-----------+----------+----------+----------+----------+---------------+\n",
      "|2108207           |F      |3          |441.6     |529.9     |532.8     |505.6     |640            |\n",
      "|2108207           |F      |3          |409.5     |411.9     |498.0     |437.9     |640            |\n",
      "|2108207           |F      |3          |581.1     |520.2     |555.8     |645.7     |860            |\n",
      "|2108207           |F      |3          |590.5     |523.8     |533.6     |617.6     |680            |\n",
      "|2108207           |F      |3          |485.5     |344.8     |343.9     |408.5     |460            |\n",
      "+------------------+-------+-----------+----------+----------+----------+----------+---------------+\n",
      "\n"
     ]
    },
    {
     "name": "stderr",
     "output_type": "stream",
     "text": [
      "                                                                                "
     ]
    }
   ],
   "source": [
    "join_df = participantes.join(\n",
    "    enem,\n",
    "    on=['CO_MUNICIPIO_PROVA'],\n",
    "    how='inner'\n",
    ")\n",
    "join_df.limit(5).show(truncate=False)"
   ]
  },
  {
   "cell_type": "code",
   "execution_count": 23,
   "id": "4385e1da-d163-4089-a656-3a69379f8d66",
   "metadata": {},
   "outputs": [
    {
     "name": "stderr",
     "output_type": "stream",
     "text": [
      "[Stage 51:===========================================>            (10 + 3) / 13]"
     ]
    },
    {
     "name": "stdout",
     "output_type": "stream",
     "text": [
      "+-------+------------------+------------------+\n",
      "|TP_SEXO|     MEDIA_NOTA_LC|     MEDIA_NOTA_MT|\n",
      "+-------+------------------+------------------+\n",
      "|      F|504.24737931081427|502.93799999990705|\n",
      "|      M|504.24737931051396|502.93799999985504|\n",
      "+-------+------------------+------------------+\n",
      "\n"
     ]
    },
    {
     "name": "stderr",
     "output_type": "stream",
     "text": [
      "                                                                                "
     ]
    }
   ],
   "source": [
    "# Media nota matematica por sexo\n",
    "join_df.groupBy(\n",
    "    'TP_SEXO'\n",
    ").agg(\n",
    "    F.mean(F.col('NU_NOTA_LC')).alias('MEDIA_NOTA_LC'),\n",
    "    F.mean(F.col('NU_NOTA_MT')).alias('MEDIA_NOTA_MT')\n",
    ").show()"
   ]
  },
  {
   "cell_type": "code",
   "execution_count": 24,
   "id": "725016a6-b491-4aaf-bb2a-741b1263e1e8",
   "metadata": {},
   "outputs": [
    {
     "name": "stderr",
     "output_type": "stream",
     "text": [
      "[Stage 60:===========================================>            (10 + 3) / 13]"
     ]
    },
    {
     "name": "stdout",
     "output_type": "stream",
     "text": [
      "+-----------+------------------+\n",
      "|TP_COR_RACA|     MEDIA_NOTA_LC|\n",
      "+-----------+------------------+\n",
      "|          1|504.24737931025453|\n",
      "|          3| 504.2473793108308|\n",
      "|          5|504.24737931034633|\n",
      "|          4| 504.2473793103383|\n",
      "|          2| 504.2473793102517|\n",
      "|          0| 504.2473793103409|\n",
      "+-----------+------------------+\n",
      "\n"
     ]
    },
    {
     "name": "stderr",
     "output_type": "stream",
     "text": [
      "                                                                                "
     ]
    }
   ],
   "source": [
    "# nota LC pela raça\n",
    "join_df.groupBy(\n",
    "    'TP_COR_RACA'\n",
    ").agg(\n",
    "    F.mean(F.col('NU_NOTA_LC')).alias('MEDIA_NOTA_LC')\n",
    ").show()"
   ]
  },
  {
   "cell_type": "code",
   "execution_count": 25,
   "id": "ea19e126-e29a-4292-90ce-9d6c36933cd3",
   "metadata": {},
   "outputs": [],
   "source": [
    "spark.stop()"
   ]
  },
  {
   "cell_type": "markdown",
   "id": "766f6834-5c02-4960-b320-2e760afad434",
   "metadata": {},
   "source": [
    "## Parte II: Spark SQL"
   ]
  },
  {
   "cell_type": "code",
   "execution_count": 26,
   "id": "4cf0b9de-ce79-4ec9-b61e-610bbcb2045e",
   "metadata": {},
   "outputs": [],
   "source": [
    "spark = ( \n",
    "    SparkSession\n",
    "    .builder\n",
    "    .master(\"spark://spark-master:7077\")\n",
    "    .appName('spark_sql')\n",
    "    .getOrCreate()\n",
    ")"
   ]
  },
  {
   "cell_type": "code",
   "execution_count": 27,
   "id": "de03edeb-8010-440b-8bcb-def889888fd6",
   "metadata": {},
   "outputs": [
    {
     "name": "stderr",
     "output_type": "stream",
     "text": [
      "                                                                                "
     ]
    }
   ],
   "source": [
    "enem_df = (\n",
    "    spark\n",
    "    .read\n",
    "    .option('header', True)\n",
    "    .option('inferSchema', True)\n",
    "    .option('sep', ';')\n",
    "    .option('encoding', 'latin1')\n",
    "    .csv('RESULTADOS_2024.csv')\n",
    ")\n",
    "\n",
    "enem_df.createOrReplaceTempView('enem_tb')"
   ]
  },
  {
   "cell_type": "code",
   "execution_count": 28,
   "id": "9289e3d2-3978-4183-afde-768267d3e491",
   "metadata": {},
   "outputs": [
    {
     "name": "stderr",
     "output_type": "stream",
     "text": [
      "[Stage 2:===========================================>             (10 + 3) / 13]"
     ]
    },
    {
     "name": "stdout",
     "output_type": "stream",
     "text": [
      "+-----------+--------+\n",
      "|SG_UF_PROVA|COUNT_UF|\n",
      "+-----------+--------+\n",
      "|RR         |12695   |\n",
      "|AC         |26424   |\n",
      "|AP         |30650   |\n",
      "|TO         |34539   |\n",
      "|RO         |38609   |\n",
      "+-----------+--------+\n",
      "only showing top 5 rows\n",
      "\n"
     ]
    },
    {
     "name": "stderr",
     "output_type": "stream",
     "text": [
      "                                                                                "
     ]
    }
   ],
   "source": [
    "# Visualizando a quantidade de dados por estado de realizacao da prova (SG_UF_PROVA)\n",
    "spark.sql(\n",
    "    '''\n",
    "        SELECT\n",
    "            SG_UF_PROVA,\n",
    "            COUNT(SG_UF_PROVA) AS COUNT_UF\n",
    "        FROM enem_tb\n",
    "        GROUP BY SG_UF_PROVA\n",
    "        ORDER BY COUNT_UF\n",
    "    '''\n",
    ").show(5, truncate=False)"
   ]
  },
  {
   "cell_type": "code",
   "execution_count": 29,
   "id": "7b277b09-c526-435d-96c1-9c80bf6948ef",
   "metadata": {},
   "outputs": [
    {
     "name": "stderr",
     "output_type": "stream",
     "text": [
      "[Stage 5:===========================================>             (10 + 3) / 13]"
     ]
    },
    {
     "name": "stdout",
     "output_type": "stream",
     "text": [
      "+-----------+------------------+------------------+------------------+\n",
      "|SG_UF_PROVA|MEDIA_NOTA_LC     |MEDIA_NOTA_MT     |MEDIA_NOTA_REDACAO|\n",
      "+-----------+------------------+------------------+------------------+\n",
      "|AC         |506.69141881471694|489.9609728707371 |589.4910773298084 |\n",
      "|AL         |503.9907938493455 |505.4732616476005 |591.9077401836654 |\n",
      "|AM         |499.1964784757735 |482.56220598650646|540.9731652670646 |\n",
      "|AP         |502.99491761429573|479.6627616105242 |579.2629380366675 |\n",
      "|BA         |508.7301438327707 |499.372481400336  |598.7217970453785 |\n",
      "+-----------+------------------+------------------+------------------+\n",
      "only showing top 5 rows\n",
      "\n"
     ]
    },
    {
     "name": "stderr",
     "output_type": "stream",
     "text": [
      "                                                                                "
     ]
    }
   ],
   "source": [
    "# Visualizando a media\n",
    "# das notas de LC, MT e REDACAO por estado de realizacao das provas\n",
    "spark.sql(\n",
    "    '''\n",
    "        SELECT\n",
    "            SG_UF_PROVA,\n",
    "            MEAN(NU_NOTA_LC) AS MEDIA_NOTA_LC,\n",
    "            MEAN(NU_NOTA_MT) AS MEDIA_NOTA_MT,\n",
    "            MEAN(NU_NOTA_REDACAO) AS MEDIA_NOTA_REDACAO\n",
    "        FROM enem_tb\n",
    "        GROUP BY SG_UF_PROVA\n",
    "        ORDER BY SG_UF_PROVA\n",
    "    '''\n",
    ").show(5, truncate=False)"
   ]
  },
  {
   "cell_type": "code",
   "execution_count": 30,
   "id": "73bb1bcc-cce5-4711-b022-4f8a62b6d70c",
   "metadata": {},
   "outputs": [
    {
     "name": "stderr",
     "output_type": "stream",
     "text": [
      "[Stage 8:===========================================>             (10 + 3) / 13]"
     ]
    },
    {
     "name": "stdout",
     "output_type": "stream",
     "text": [
      "+-----------+-----------------+------------------+------------------+\n",
      "|SG_UF_PROVA|STD_NOTA_LC      |STD_NOTA_MT       |STD_NOTA_REDACAO  |\n",
      "+-----------+-----------------+------------------+------------------+\n",
      "|AC         |70.06169041603373|95.22926904934953 |212.2526746177195 |\n",
      "|AL         |72.74449160311147|106.89082858766298|242.096241563416  |\n",
      "|AM         |72.64815076108428|93.91156444915472 |224.5619144290938 |\n",
      "|AP         |71.01471708969164|91.05994355623126 |227.00723019152628|\n",
      "|BA         |70.50809820417075|101.99542187756019|223.087243259342  |\n",
      "+-----------+-----------------+------------------+------------------+\n",
      "only showing top 5 rows\n",
      "\n"
     ]
    },
    {
     "name": "stderr",
     "output_type": "stream",
     "text": [
      "                                                                                "
     ]
    }
   ],
   "source": [
    "# Visualizando desvio padrao\n",
    "# das notas de LC, MT e REDACAO por estado de realizacao das provas\n",
    "spark.sql(\n",
    "    '''\n",
    "        SELECT\n",
    "            SG_UF_PROVA,\n",
    "            STD(NU_NOTA_LC) AS STD_NOTA_LC,\n",
    "            STD(NU_NOTA_MT) AS STD_NOTA_MT,\n",
    "            STD(NU_NOTA_REDACAO) AS STD_NOTA_REDACAO\n",
    "        FROM enem_tb\n",
    "        GROUP BY SG_UF_PROVA\n",
    "        ORDER BY SG_UF_PROVA\n",
    "    '''\n",
    ").show(5, truncate=False)"
   ]
  },
  {
   "cell_type": "code",
   "execution_count": 31,
   "id": "9b0965cf-5af8-4e3a-9fb4-3782127500a6",
   "metadata": {},
   "outputs": [
    {
     "name": "stderr",
     "output_type": "stream",
     "text": [
      "[Stage 11:===============================================>        (11 + 2) / 13]"
     ]
    },
    {
     "name": "stdout",
     "output_type": "stream",
     "text": [
      "+-----------+-----------------+-----------------+------------------+\n",
      "|SG_UF_PROVA|MEDIA_NOTA_LC    |MEDIA_NOTA_MT    |MEDIA_NOTA_REDACAO|\n",
      "+-----------+-----------------+-----------------+------------------+\n",
      "|SP         |547.6865680589616|559.7713125587762|652.2811404065163 |\n",
      "|ES         |535.4067699940247|546.2260679248182|650.5578590957649 |\n",
      "|MG         |538.0591089142655|551.9026473637185|664.7805011078916 |\n",
      "|RJ         |538.4875202137385|543.0368571936972|641.5937565914364 |\n",
      "+-----------+-----------------+-----------------+------------------+\n",
      "\n"
     ]
    },
    {
     "name": "stderr",
     "output_type": "stream",
     "text": [
      "                                                                                "
     ]
    }
   ],
   "source": [
    "# Visualizando a media\n",
    "# das notas de LC, MT e REDACAO de realizacao das provas da regiao sudeste\n",
    "spark.sql(\n",
    "    '''\n",
    "        SELECT\n",
    "            SG_UF_PROVA,\n",
    "            MEAN(NU_NOTA_LC) AS MEDIA_NOTA_LC,\n",
    "            MEAN(NU_NOTA_MT) AS MEDIA_NOTA_MT,\n",
    "            MEAN(NU_NOTA_REDACAO) AS MEDIA_NOTA_REDACAO\n",
    "        FROM enem_tb\n",
    "        WHERE SG_UF_PROVA IN ('SP', 'MG', 'ES', 'RJ')\n",
    "        GROUP BY SG_UF_PROVA\n",
    "    '''\n",
    ").show(5, truncate=False)"
   ]
  },
  {
   "cell_type": "code",
   "execution_count": 32,
   "id": "82a5327b-af58-44ca-a178-d16e3278e10c",
   "metadata": {},
   "outputs": [
    {
     "name": "stderr",
     "output_type": "stream",
     "text": [
      "[Stage 14:===========================================>            (10 + 3) / 13]"
     ]
    },
    {
     "name": "stdout",
     "output_type": "stream",
     "text": [
      "+-----------+------------------+------------------+\n",
      "|SG_UF_PROVA|MEDIA_NOTA_LC     |MEDIA_NOTA_MT     |\n",
      "+-----------+------------------+------------------+\n",
      "|SP         |480.95447657841135|474.65758952149565|\n",
      "|ES         |478.50738825267825|473.0251497005988 |\n",
      "|MG         |466.7090728914336 |464.3023412350015 |\n",
      "|RJ         |470.29895035163185|458.5498177740398 |\n",
      "+-----------+------------------+------------------+\n",
      "\n"
     ]
    },
    {
     "name": "stderr",
     "output_type": "stream",
     "text": [
      "                                                                                "
     ]
    }
   ],
   "source": [
    "# MEDIA DAS NOTAS POR PROVA - SOMENTE CANDIDATOS QUE ZERARAM A REDAÇÃO da Região Sudeste\n",
    "spark.sql(\n",
    "    '''\n",
    "        SELECT\n",
    "            SG_UF_PROVA,\n",
    "            MEAN(NU_NOTA_LC) AS MEDIA_NOTA_LC,\n",
    "            MEAN(NU_NOTA_MT) AS MEDIA_NOTA_MT\n",
    "        FROM enem_tb\n",
    "        WHERE \n",
    "            SG_UF_PROVA IN ('SP', 'MG', 'ES', 'RJ') AND\n",
    "            NU_NOTA_REDACAO = 0\n",
    "        GROUP BY SG_UF_PROVA \n",
    "    '''\n",
    ").show(5, truncate=False)"
   ]
  },
  {
   "cell_type": "code",
   "execution_count": 33,
   "id": "567a007f-547f-4171-b472-494297ab1850",
   "metadata": {},
   "outputs": [
    {
     "name": "stderr",
     "output_type": "stream",
     "text": [
      "                                                                                "
     ]
    }
   ],
   "source": [
    "# Dados dos participantes do ENEM 2024\n",
    "participantes_df = (\n",
    "    spark\n",
    "    .read\n",
    "    .csv(\n",
    "        'PARTICIPANTES_2024.csv',\n",
    "        sep=';',\n",
    "        header=True,\n",
    "        inferSchema=True,\n",
    "        encoding='latin1'\n",
    "    )\n",
    ")\n",
    "participantes_df.createOrReplaceTempView('participantes_tb')"
   ]
  },
  {
   "cell_type": "code",
   "execution_count": 34,
   "id": "a21b34ad-2f84-4f81-91a4-539deb0a40e9",
   "metadata": {},
   "outputs": [
    {
     "name": "stderr",
     "output_type": "stream",
     "text": [
      "[Stage 19:============================>                            (6 + 6) / 12]"
     ]
    },
    {
     "name": "stdout",
     "output_type": "stream",
     "text": [
      "+-------+----------+\n",
      "|TP_SEXO|COUNT_SEXO|\n",
      "+-------+----------+\n",
      "|F      |2624621   |\n",
      "|M      |1708323   |\n",
      "+-------+----------+\n",
      "\n"
     ]
    },
    {
     "name": "stderr",
     "output_type": "stream",
     "text": [
      "                                                                                "
     ]
    }
   ],
   "source": [
    "#visualizando participantes por sexo\n",
    "spark.sql(\n",
    "    '''\n",
    "        SELECT\n",
    "            TP_SEXO,\n",
    "            COUNT(TP_SEXO) AS COUNT_SEXO\n",
    "        FROM participantes_tb\n",
    "        GROUP BY TP_SEXO\n",
    "        ORDER BY TP_SEXO\n",
    "    '''\n",
    ").show(5, truncate=False)"
   ]
  },
  {
   "cell_type": "code",
   "execution_count": 35,
   "id": "6dc33a09-0b4a-4295-878c-8dc647383ff3",
   "metadata": {},
   "outputs": [
    {
     "name": "stderr",
     "output_type": "stream",
     "text": [
      "[Stage 22:=======================>                                 (5 + 7) / 12]"
     ]
    },
    {
     "name": "stdout",
     "output_type": "stream",
     "text": [
      "+-----------+----------+\n",
      "|TP_COR_RACA|COUNT_RACA|\n",
      "+-----------+----------+\n",
      "|0          |50632     |\n",
      "|1          |1791884   |\n",
      "|2          |534653    |\n",
      "|3          |1863437   |\n",
      "|4          |62419     |\n",
      "+-----------+----------+\n",
      "only showing top 5 rows\n",
      "\n"
     ]
    },
    {
     "name": "stderr",
     "output_type": "stream",
     "text": [
      "                                                                                "
     ]
    }
   ],
   "source": [
    "#Visualizando inscritos por raça\n",
    "spark.sql(\n",
    "    '''\n",
    "        SELECT\n",
    "            TP_COR_RACA,\n",
    "            COUNT(TP_COR_RACA) AS COUNT_RACA\n",
    "        FROM participantes_tb\n",
    "        GROUP BY TP_COR_RACA\n",
    "        ORDER BY TP_COR_RACA\n",
    "    '''\n",
    ").show(5, truncate=False)"
   ]
  },
  {
   "cell_type": "code",
   "execution_count": 36,
   "id": "950e4437-1606-472c-a371-bfdcc8d2cd1c",
   "metadata": {},
   "outputs": [
    {
     "name": "stderr",
     "output_type": "stream",
     "text": [
      "[Stage 25:=======================>                                 (5 + 7) / 12]"
     ]
    },
    {
     "name": "stdout",
     "output_type": "stream",
     "text": [
      "+-------+-----------+-------+\n",
      "|TP_SEXO|TP_COR_RACA|QTD    |\n",
      "+-------+-----------+-------+\n",
      "|F      |0          |29306  |\n",
      "|M      |0          |21326  |\n",
      "|M      |1          |700104 |\n",
      "|F      |1          |1091780|\n",
      "|F      |2          |311015 |\n",
      "|M      |2          |223638 |\n",
      "|F      |3          |1135887|\n",
      "|M      |3          |727550 |\n",
      "|F      |4          |39664  |\n",
      "|M      |4          |22755  |\n",
      "|M      |5          |12950  |\n",
      "|F      |5          |16969  |\n",
      "+-------+-----------+-------+\n",
      "\n"
     ]
    },
    {
     "name": "stderr",
     "output_type": "stream",
     "text": [
      "                                                                                "
     ]
    }
   ],
   "source": [
    "# Número de Candidatos inscritos por Sexo e RACA\n",
    "spark.sql(\n",
    "    '''\n",
    "        SELECT\n",
    "            TP_SEXO,\n",
    "            TP_COR_RACA,\n",
    "            COUNT(1) AS QTD\n",
    "        FROM participantes_tb\n",
    "        GROUP BY TP_SEXO, TP_COR_RACA\n",
    "        ORDER BY TP_COR_RACA\n",
    "    '''\n",
    ").show(truncate=False)"
   ]
  },
  {
   "cell_type": "code",
   "execution_count": 37,
   "id": "f3c9a657-5aee-40c2-94ec-4d927ad350b0",
   "metadata": {},
   "outputs": [],
   "source": [
    "## JOIN entre os dfs enem e participantes que fizeram a prova\n",
    "## no municipio de Pedreiras-MA (CO_MUNICIPIO_PROVA==2108207)\n",
    "## com NU_NOTA_REDACAO > 0\n",
    "\n",
    "join_df = spark.sql(\n",
    "    '''\n",
    "        SELECT\n",
    "            PAR.CO_MUNICIPIO_PROVA,\n",
    "            PAR.TP_SEXO,\n",
    "            PAR.TP_COR_RACA,\n",
    "            ENE.CO_MUNICIPIO_PROVA,\n",
    "            ENE.NU_NOTA_CN,\n",
    "            ENE.NU_NOTA_CH,\n",
    "            ENE.NU_NOTA_LC,\n",
    "            ENE.NU_NOTA_MT,\n",
    "            ENE.NU_NOTA_REDACAO\n",
    "        FROM participantes_tb AS PAR\n",
    "        INNER JOIN enem_tb AS ENE ON (PAR.CO_MUNICIPIO_PROVA = ENE.CO_MUNICIPIO_PROVA)\n",
    "        WHERE\n",
    "            PAR.CO_MUNICIPIO_PROVA = 2108207 AND\n",
    "            ENE.CO_MUNICIPIO_PROVA = 2108207 AND\n",
    "            ENE.NU_NOTA_CN IS NOT NULL AND\n",
    "            ENE.NU_NOTA_CH IS NOT NULL AND\n",
    "            ENE.NU_NOTA_LC IS NOT NULL AND\n",
    "            ENE.NU_NOTA_MT IS NOT NULL AND\n",
    "            ENE.NU_NOTA_REDACAO > 0\n",
    "    '''\n",
    ")\n",
    "\n",
    "join_df.createOrReplaceTempView('participantes_enem_tb')"
   ]
  },
  {
   "cell_type": "code",
   "execution_count": 38,
   "id": "80ee7d8b-b96b-4468-9f88-5f05be5a8799",
   "metadata": {},
   "outputs": [
    {
     "name": "stderr",
     "output_type": "stream",
     "text": [
      "[Stage 29:===============================================>        (11 + 2) / 13]"
     ]
    },
    {
     "name": "stdout",
     "output_type": "stream",
     "text": [
      "+-------+------------------+------------------+\n",
      "|TP_SEXO|MEDIA_NU_NOTA_LC  |MEDIA_NU_NOTA_MT  |\n",
      "+-------+------------------+------------------+\n",
      "|F      |504.24737931081427|502.93799999990625|\n",
      "|M      |504.24737931051396|502.9379999998539 |\n",
      "+-------+------------------+------------------+\n",
      "\n"
     ]
    },
    {
     "name": "stderr",
     "output_type": "stream",
     "text": [
      "                                                                                "
     ]
    }
   ],
   "source": [
    "# Media notas LC e MT por sexo\n",
    "spark.sql(\n",
    "    '''\n",
    "        SELECT\n",
    "            TP_SEXO,\n",
    "            MEAN(NU_NOTA_LC) AS MEDIA_NU_NOTA_LC,\n",
    "            MEAN(NU_NOTA_MT) AS MEDIA_NU_NOTA_MT\n",
    "        FROM participantes_enem_tb\n",
    "        GROUP BY TP_SEXO\n",
    "    '''\n",
    ").show(truncate=False)"
   ]
  },
  {
   "cell_type": "code",
   "execution_count": 39,
   "id": "19eb9f18-96a0-4ff4-90fe-ac5cf2300d74",
   "metadata": {},
   "outputs": [
    {
     "name": "stderr",
     "output_type": "stream",
     "text": [
      "[Stage 38:===============================================>        (11 + 2) / 13]"
     ]
    },
    {
     "name": "stdout",
     "output_type": "stream",
     "text": [
      "+-----------+------------------+------------------+\n",
      "|TP_COR_RACA|MEDIA_NU_NOTA_LC  |MEDIA_NU_NOTA_MT  |\n",
      "+-----------+------------------+------------------+\n",
      "|1          |504.2473793102544 |502.93799999988914|\n",
      "|3          |504.2473793108305 |502.93799999990983|\n",
      "|5          |504.247379310346  |502.9380000000007 |\n",
      "|4          |504.2473793103385 |502.9379999999959 |\n",
      "|2          |504.2473793102514 |502.9380000000274 |\n",
      "|0          |504.24737931034093|502.9380000000018 |\n",
      "+-----------+------------------+------------------+\n",
      "\n"
     ]
    },
    {
     "name": "stderr",
     "output_type": "stream",
     "text": [
      "                                                                                "
     ]
    }
   ],
   "source": [
    "spark.sql(\n",
    "    '''\n",
    "        SELECT\n",
    "            TP_COR_RACA,\n",
    "            MEAN(NU_NOTA_LC) AS MEDIA_NU_NOTA_LC,\n",
    "            MEAN(NU_NOTA_MT) AS MEDIA_NU_NOTA_MT\n",
    "        FROM participantes_enem_tb\n",
    "        GROUP BY TP_COR_RACA\n",
    "    '''\n",
    ").show(truncate=False)"
   ]
  },
  {
   "cell_type": "code",
   "execution_count": 40,
   "id": "4043b7fc-0141-4af3-9c5f-7c3f716ff05f",
   "metadata": {},
   "outputs": [],
   "source": [
    "spark.stop()"
   ]
  },
  {
   "cell_type": "markdown",
   "id": "3c505118-05dd-46c3-bf11-3be00a8b57e2",
   "metadata": {},
   "source": [
    "---\n",
    "\n",
    "__Licensa__\n",
    "\n",
    "<img src=\"https://upload.wikimedia.org/wikipedia/commons/thumb/d/d3/Cc_by-nc_icon.svg/1200px-Cc_by-nc_icon.svg.png\" width=\"20%\"/>\n",
    "\n",
    "\n",
    "\n",
    "*This work is licensed under the Creative Commons Attribution-NonCommercial 4.0 International License. To view a copy of this license, visit http://creativecommons.org/licenses/by-nc/4.0/ or send a letter to Creative Commons, PO Box 1866, Mountain View, CA 94042, USA.*"
   ]
  },
  {
   "cell_type": "code",
   "execution_count": null,
   "id": "c43fcf48-0c87-4389-81d3-59dd0716ff6e",
   "metadata": {},
   "outputs": [],
   "source": []
  },
  {
   "cell_type": "code",
   "execution_count": null,
   "id": "ea9a613a-4210-41c7-85d7-36dfc38bafce",
   "metadata": {},
   "outputs": [],
   "source": []
  }
 ],
 "metadata": {
  "kernelspec": {
   "display_name": "Python 3 (ipykernel)",
   "language": "python",
   "name": "python3"
  },
  "language_info": {
   "codemirror_mode": {
    "name": "ipython",
    "version": 3
   },
   "file_extension": ".py",
   "mimetype": "text/x-python",
   "name": "python",
   "nbconvert_exporter": "python",
   "pygments_lexer": "ipython3",
   "version": "3.12.9"
  }
 },
 "nbformat": 4,
 "nbformat_minor": 5
}
